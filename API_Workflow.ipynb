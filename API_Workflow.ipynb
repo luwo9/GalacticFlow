{
 "cells": [
  {
   "cell_type": "code",
   "execution_count": null,
   "metadata": {},
   "outputs": [],
   "source": [
    "#This Deonstrates the Workflow with the API from API.py\n",
    "\n",
    "import API\n",
    "import torch\n",
    "import numpy as np"
   ]
  },
  {
   "cell_type": "code",
   "execution_count": null,
   "metadata": {},
   "outputs": [],
   "source": [
    "definition_model1 = {\n",
    "    \"processor\": \"Processor_cond\",\n",
    "    \"cond_inds\": torch.tensor([10,11,12,13]),\n",
    "    \"processor_args\": {\"N_min\": 500, \"percentile2\": 95},\n",
    "    \"processor_data\": {\"folder\": \"all_sims\"},\n",
    "    \"flow_hyper\": {\"n_layers\":14, \"dim_notcond\": 10, \"dim_cond\": 4, \"CL\":\"NSF_CL2\", \"K\": 10, \"B\":3, \"network\":\"MLP\", \"network_args\":torch.tensor([128,4,0.2])},\n",
    "    \"subset_params\": {\"cond_fn\": \"cond_M_stars_2age_avZ\", \"use_fn\": \"all_galaxies\", \"train_use_fn_constructor\": \"construct_all_galaxies_leavout\", \"leavout_indices\": None},\n",
    "    \"data_prep_args\": {\"transformation_functions\":(\"np.log10\",), \"transformation_indices\":(torch.tensor([10]),), \"inverse_transformations\":(\"10**x\",)}\n",
    "} #Example definition like in API.py"
   ]
  },
  {
   "cell_type": "code",
   "execution_count": null,
   "metadata": {},
   "outputs": [],
   "source": [
    "model1 = API.GalacticFlow(definition_model1)"
   ]
  },
  {
   "cell_type": "code",
   "execution_count": null,
   "metadata": {},
   "outputs": [],
   "source": [
    "model1.prepare()"
   ]
  },
  {
   "cell_type": "code",
   "execution_count": null,
   "metadata": {},
   "outputs": [],
   "source": [
    "#Train model.\n",
    "#Often we want to train in a dedicated .py script that is started with e.g. nohup because training can take a long time.\n",
    "model1.train(1,0.0004, 1024, 0.998)"
   ]
  },
  {
   "cell_type": "code",
   "execution_count": null,
   "metadata": {},
   "outputs": [],
   "source": [
    "#For this reson we wrote cond_trainer.py, which can be run in a separate process, and will save the model to a file.\n",
    "#We export the data to files:\n",
    "model1.cond_trainer_export(1,0.0002, 1024, 0.998, \"GF_123456\")\n",
    "#And then run cond_trainer.py in a separate process e.g. with:\n",
    "#nohup python3 cond_trainer.py &"
   ]
  },
  {
   "cell_type": "code",
   "execution_count": null,
   "metadata": {},
   "outputs": [],
   "source": [
    "#Andthen we collect the flow back again:\n",
    "#The output of the script is automatically deleted.\n",
    "model1.cond_trainer_import(\"GF_123456\")"
   ]
  },
  {
   "cell_type": "code",
   "execution_count": null,
   "metadata": {},
   "outputs": [],
   "source": [
    "data_galaxy = model1.Data_sub_v[5]\n",
    "\n",
    "model_galaxy = model1.sample_galaxy(len(data_galaxy), data_galaxy[0][-4:])"
   ]
  },
  {
   "cell_type": "code",
   "execution_count": null,
   "metadata": {},
   "outputs": [],
   "source": [
    "import res_flow_vis as visual"
   ]
  },
  {
   "cell_type": "code",
   "execution_count": null,
   "metadata": {},
   "outputs": [],
   "source": [
    "visual.get_result_plots(data_galaxy, model_galaxy, label = \"API_TEST\")"
   ]
  },
  {
   "cell_type": "code",
   "execution_count": null,
   "metadata": {},
   "outputs": [],
   "source": [
    "model1.cond_inds, model1.processor.mu, model1.processor.std"
   ]
  },
  {
   "cell_type": "code",
   "execution_count": null,
   "metadata": {},
   "outputs": [],
   "source": [
    "model1.save(\"GF_model1.pth\")"
   ]
  },
  {
   "cell_type": "code",
   "execution_count": null,
   "metadata": {},
   "outputs": [],
   "source": [
    "# Somewhere else, or another day/session\n",
    "\n",
    "model2 = API.GalacticFlow(\"GF_model1.pth\")"
   ]
  },
  {
   "cell_type": "code",
   "execution_count": null,
   "metadata": {},
   "outputs": [],
   "source": [
    "model2.cond_inds, model2.processor.mu, model2.processor.std"
   ]
  },
  {
   "cell_type": "code",
   "execution_count": null,
   "metadata": {},
   "outputs": [],
   "source": [
    "model2.prepare()\n",
    "data_galaxy = model2.Data_sub_v[5]\n",
    "\n",
    "model_galaxy = model2.sample_galaxy(len(data_galaxy), data_galaxy[0][-4:], GPUs=[9])"
   ]
  },
  {
   "cell_type": "code",
   "execution_count": null,
   "metadata": {},
   "outputs": [],
   "source": [
    "visual.get_result_plots(data_galaxy, model_galaxy, label = \"API_TEST2\")"
   ]
  }
 ],
 "metadata": {
  "kernelspec": {
   "display_name": "Python 3",
   "language": "python",
   "name": "python3"
  },
  "language_info": {
   "codemirror_mode": {
    "name": "ipython",
    "version": 3
   },
   "file_extension": ".py",
   "mimetype": "text/x-python",
   "name": "python",
   "nbconvert_exporter": "python",
   "pygments_lexer": "ipython3",
   "version": "3.8.10"
  },
  "orig_nbformat": 4
 },
 "nbformat": 4,
 "nbformat_minor": 2
}
