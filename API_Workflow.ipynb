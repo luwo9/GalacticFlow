{
 "cells": [
  {
   "cell_type": "code",
   "execution_count": 1,
   "metadata": {},
   "outputs": [],
   "source": [
    "#This Deonstrates the Workflow with the API from API.py\n",
    "\n",
    "import API\n",
    "import torch\n",
    "import numpy as np\n",
    "\n",
    "from IPython.display import Markdown#, display"
   ]
  },
  {
   "cell_type": "code",
   "execution_count": 2,
   "metadata": {},
   "outputs": [],
   "source": [
    "#Example Definition from API.py, with some changes\n",
    "definition_model1 = {\n",
    "    \"processor\": \"Processor_cond\",\n",
    "    \"processor_args\": {},\n",
    "    \"processor_data\": {\"folder\": \"all_sims\"},\n",
    "    \"processor_clean\": {\"N_min\":500},\n",
    "    \"flow_hyper\": {\"n_layers\":14, \"dim_notcond\": 10, \"dim_cond\": 4, \"CL\":\"NSF_CL2\", \"K\": 10, \"B\":3, \"network\":\"MLP\", \"network_args\":torch.tensor([128,4,0.2])},\n",
    "    \"subset_params\": {\"cond_fn\": \"cond_M_stars_2age_avZ\", \"use_fn_constructor\": \"construct_all_galaxies_leavout\", \"leavout_key\": \"id\", \"leavout_vals\": []},\n",
    "    \"data_prep_args\": {\"transformation_functions\":(\"np.log10\",), \"transformation_components\":([\"M_stars\"],), \"inverse_transformations\":(\"10**x\",)}\n",
    "}"
   ]
  },
  {
   "cell_type": "code",
   "execution_count": 3,
   "metadata": {},
   "outputs": [],
   "source": [
    "#Initiate from definition, with all the desired parameters\n",
    "model1 = API.GalacticFlow(definition_model1)"
   ]
  },
  {
   "cell_type": "code",
   "execution_count": null,
   "metadata": {},
   "outputs": [],
   "source": [
    "#Prepare the model (i.e. load and process the data)\n",
    "model1.prepare()"
   ]
  },
  {
   "cell_type": "code",
   "execution_count": null,
   "metadata": {},
   "outputs": [],
   "source": [
    "#The cleaned data of the chosen subset is stored in .Galaxies (this includes galaxies that are not used for training)\n",
    "example_galaxy = model1.Galaxies[0]\n",
    "\n",
    "for key, value in example_galaxy.items():\n",
    "    print(f'key \"{key}\" contains a {type(value).__name__}:')\n",
    "    display(value)\n"
   ]
  },
  {
   "cell_type": "code",
   "execution_count": null,
   "metadata": {},
   "outputs": [],
   "source": [
    "#Now due to our choice of subset the model knows what components and conditions we have.\n",
    "\n",
    "#We specify \"stars\", because we technically could have also e.g. gas, which could have different components\n",
    "#While gas will have the same galactic parameters (see also above), e.g. gas might be learned conditional on the postion (even if unusual support is built in)\n",
    "print(f'Components: {model1.get_components(\"stars\")}')\n",
    "print(f'Conditions: {model1.get_conds(\"stars\")}')"
   ]
  },
  {
   "cell_type": "code",
   "execution_count": null,
   "metadata": {},
   "outputs": [],
   "source": [
    "#Train the model.\n",
    "#Often we want to train in a dedicated .py script that is started with e.g. nohup because training can take a long time.\n",
    "model1.train(1,0.0004, 1024, 0.998, \"cuda:9\")"
   ]
  },
  {
   "cell_type": "code",
   "execution_count": null,
   "metadata": {},
   "outputs": [],
   "source": [
    "#Take out the Data from galaxy nb. 5\n",
    "data_galaxy = model1.Galaxies[5]\n",
    "\n",
    "#Grab its parameters\n",
    "galaxy_params = data_galaxy[\"parameters\"]\n",
    "print(\"Galaxy Parameters:\")\n",
    "display(galaxy_params)\n",
    "\n",
    "#Sample the model at this parameters with same number of stars\n",
    "n_stars = len(data_galaxy[\"stars\"])\n",
    "model_galaxy = model1.sample_galaxy(n_stars, galaxy_params, GPUs=[6,7,8,9])\n",
    "\n",
    "print(\"Sampled Galaxy:\")\n",
    "display(model_galaxy)"
   ]
  },
  {
   "cell_type": "markdown",
   "metadata": {},
   "source": [
    "### Many ways to sample a galaxy..."
   ]
  },
  {
   "cell_type": "code",
   "execution_count": null,
   "metadata": {},
   "outputs": [],
   "source": [
    "#Multiple Galaxies can be sampled at once, e.g. 10**4 and 10**5 stars for galaxy parameters like nb.5 and nb.80, respectively.\n",
    "import time\n",
    "start = time.perf_counter()\n",
    "model_galaxy_alternative = model1.sample_galaxy([10**4,10**5], [galaxy_params, model1.Galaxies[80][\"parameters\"]], GPUs=[6,7,8,9])\n",
    "end = time.perf_counter()\n",
    "\n",
    "print(f\"Sampling took {end-start} seconds\")\n",
    "\n",
    "print(\"Sampled Galaxies:\")\n",
    "print(f\"Shape of the first galaxy: {model_galaxy_alternative[0].shape}\")\n",
    "display(model_galaxy_alternative[0][:5])\n",
    "print(f\"Shape of the second galaxy: {model_galaxy_alternative[1].shape}\")\n",
    "display(model_galaxy_alternative[1][:5])"
   ]
  },
  {
   "cell_type": "code",
   "execution_count": null,
   "metadata": {},
   "outputs": [],
   "source": [
    "#Calling the function two times is way slower. For small sample sizes almost double the time.\n",
    "start = time.perf_counter()\n",
    "model1.sample_galaxy(10**4, galaxy_params, GPUs=[6,7,8,9])\n",
    "model1.sample_galaxy(10**5, model1.Galaxies[80][\"parameters\"], GPUs=[6,7,8,9])\n",
    "end = time.perf_counter()\n",
    "\n",
    "print(f\"Sampling took {end-start} seconds\")"
   ]
  },
  {
   "cell_type": "code",
   "execution_count": null,
   "metadata": {},
   "outputs": [],
   "source": [
    "#Different parameters, same number of stars\n",
    "#Cpu is faster for small sample sizes\n",
    "model_galaxy_alternative = model1.sample_galaxy(10**4, [galaxy_params, model1.Galaxies[80][\"parameters\"]], GPUs=None)\n",
    "\n",
    "print(\"Sampled Galaxies:\")\n",
    "print(f\"Shape of the first galaxy: {model_galaxy_alternative[0].shape}\")\n",
    "display(model_galaxy_alternative[0][:2])\n",
    "print(f\"Shape of the second galaxy: {model_galaxy_alternative[1].shape}\")\n",
    "display(model_galaxy_alternative[1][:2])"
   ]
  },
  {
   "cell_type": "code",
   "execution_count": null,
   "metadata": {},
   "outputs": [],
   "source": [
    "#Same parameters, different number of stars\n",
    "model_galaxy_alternative = model1.sample_galaxy([10**4,10], galaxy_params, GPUs=None)\n",
    "\n",
    "print(\"Sampled Galaxies:\")\n",
    "print(f\"Shape of the first galaxy: {model_galaxy_alternative[0].shape}\")\n",
    "display(model_galaxy_alternative[0][:2])\n",
    "print(f\"Shape of the second galaxy: {model_galaxy_alternative[1].shape}\")\n",
    "display(model_galaxy_alternative[1][:2])"
   ]
  },
  {
   "cell_type": "code",
   "execution_count": null,
   "metadata": {},
   "outputs": [],
   "source": [
    "#Now about how the sample may be returned: the reinsert_conditions argument\n",
    "\n",
    "#Default (before) is True, which means that the conditions are reinserted into the sample\n",
    "\n",
    "#Also possible: \"none\"\n",
    "#This means that the conditions are not reinserted into the sample\n",
    "model_galaxy_alternative = model1.sample_galaxy(10**4, galaxy_params, GPUs=None, reinsert_conditions=\"none\")\n",
    "\n",
    "print('Mode \"none\":')\n",
    "display(model_galaxy_alternative[:2])\n",
    "\n",
    "#Also possible: \"local\"\n",
    "#This means that only conditions like \"x\" are reinserted into the sample, but not galaxy parameters like \"M_stars\"\n",
    "#Here we have no conditions like \"x\", so it is the same as \"none\"\n",
    "model_galaxy_alternative = model1.sample_galaxy(10**4, galaxy_params, GPUs=None, reinsert_conditions=\"local\")\n",
    "\n",
    "print('Mode \"local\":')\n",
    "display(model_galaxy_alternative[:2])\n",
    "\n",
    "#Also possible: \"galaxy\"\n",
    "#This changes the returned Data type to the standard galaxy type, a list of dicts one for each galaxy, just like model1.Galaxies\n",
    "model_galaxy_alternative = model1.sample_galaxy([10**4]*2, galaxy_params, GPUs=None, reinsert_conditions=\"galaxy\")\n",
    "\n",
    "print('Mode \"galaxy\":')\n",
    "for galaxy in model_galaxy_alternative:\n",
    "    for key, value in galaxy.items():\n",
    "        print(f'key \"{key}\" contains a {type(value).__name__}:')\n",
    "        display(value)"
   ]
  },
  {
   "cell_type": "markdown",
   "metadata": {},
   "source": [
    "## Evaluating the results"
   ]
  },
  {
   "cell_type": "code",
   "execution_count": null,
   "metadata": {},
   "outputs": [],
   "source": [
    "#E.g. visualize it now\n",
    "import res_flow_vis as visual"
   ]
  },
  {
   "cell_type": "code",
   "execution_count": null,
   "metadata": {},
   "outputs": [],
   "source": [
    "#The plot fn do not yet support the new galaxy data (dicts+DataFrames), so we have to convert it back to the old one (np.arrays)\n",
    "visual.get_result_plots(data_galaxy[\"stars\"].values, model_galaxy.values, label = \"API_TEST\")"
   ]
  },
  {
   "cell_type": "code",
   "execution_count": 4,
   "metadata": {},
   "outputs": [
    {
     "name": "stdout",
     "output_type": "stream",
     "text": [
      "Internal Parameters:\n",
      "\n",
      "Flow architecture:\n"
     ]
    },
    {
     "data": {
      "text/markdown": [
       "Data&nbsp;dim:&nbsp;10,&nbsp;Condition&nbsp;dim:&nbsp;4<br><br>Flow&nbsp;architecture:<br>Type&nbsp;of&nbsp;coupling&nbsp;layer:&nbsp;NSF_CL2<br>Number&nbsp;of&nbsp;layers:&nbsp;14<br>Number&nbsp;of&nbsp;spline&nbsp;bins:&nbsp;10<br>Spline&nbsp;range:&nbsp;3<br>Base&nbsp;network:&nbsp;MLP<br><br>Base&nbsp;network&nbsp;architecture:<br>Number&nbsp;of&nbsp;layers:&nbsp;4<br>Number&nbsp;of&nbsp;neurons&nbsp;per&nbsp;layer:&nbsp;128<br>Leaky&nbsp;ReLU&nbsp;slope:&nbsp;0.20000000298023224"
      ],
      "text/plain": [
       "<IPython.core.display.Markdown object>"
      ]
     },
     "metadata": {},
     "output_type": "display_data"
    }
   ],
   "source": [
    "#We can also check some important internal parameters of the model\n",
    "print(\"Internal Parameters:\")\n",
    "#display(model1.processor.mu)\n",
    "#display(model1.processor.std)\n",
    "print(\"\")\n",
    "print(\"Flow architecture:\")\n",
    "display(Markdown(model1.flow_architecture))"
   ]
  },
  {
   "cell_type": "markdown",
   "metadata": {},
   "source": [
    "## Saving the model and loading from saved file"
   ]
  },
  {
   "cell_type": "code",
   "execution_count": null,
   "metadata": {},
   "outputs": [],
   "source": [
    "#Save the model to a file\n",
    "model1.save(\"GF_model1.pth\")"
   ]
  },
  {
   "cell_type": "code",
   "execution_count": null,
   "metadata": {},
   "outputs": [],
   "source": [
    "#Somewhere else, or another day/session\n",
    "#We need no more than (the imports and):\n",
    "model2 = API.GalacticFlow(\"GF_model1.pth\")"
   ]
  },
  {
   "cell_type": "code",
   "execution_count": null,
   "metadata": {},
   "outputs": [],
   "source": [
    "#All parameters are still there\n",
    "model2.processor.mu, model2.processor.std"
   ]
  },
  {
   "cell_type": "code",
   "execution_count": null,
   "metadata": {},
   "outputs": [],
   "source": [
    "#Also the components and conditions\n",
    "print(f'Components: {model2.get_components(\"stars\")}')\n",
    "print(f'Conditions: {model2.get_conds(\"stars\")}')"
   ]
  },
  {
   "cell_type": "code",
   "execution_count": null,
   "metadata": {},
   "outputs": [],
   "source": [
    "#Preperation yields the same data\n",
    "#model2.prepare()\n",
    "data_galaxy = model2.Galaxies[5]\n",
    "\n",
    "data_params = data_galaxy[\"parameters\"]\n",
    "\n",
    "model_galaxy = model2.sample_galaxy(len(data_galaxy[\"stars\"]), data_params, GPUs=None, reinsert_conditions=\"galaxy\")"
   ]
  },
  {
   "cell_type": "code",
   "execution_count": null,
   "metadata": {},
   "outputs": [],
   "source": [
    "#Can again be visualized and remains the same\n",
    "visual.get_result_plots(data_galaxy[\"stars\"].values, model_galaxy[\"stars\"].values, label = \"API_TEST2\")"
   ]
  }
 ],
 "metadata": {
  "kernelspec": {
   "display_name": "Python 3",
   "language": "python",
   "name": "python3"
  },
  "language_info": {
   "codemirror_mode": {
    "name": "ipython",
    "version": 3
   },
   "file_extension": ".py",
   "mimetype": "text/x-python",
   "name": "python",
   "nbconvert_exporter": "python",
   "pygments_lexer": "ipython3",
   "version": "3.8.10"
  },
  "orig_nbformat": 4
 },
 "nbformat": 4,
 "nbformat_minor": 2
}
