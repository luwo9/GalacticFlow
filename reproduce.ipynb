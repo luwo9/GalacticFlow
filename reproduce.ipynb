{
 "cells": [
  {
   "cell_type": "markdown",
   "metadata": {},
   "source": [
    "This Notebook shows directly how to reproduce the results in the papr.\n",
    "\n",
    "All neccesary explanations are also found in other Notebooks, but this is dedicated to the reproduction of the results."
   ]
  },
  {
   "cell_type": "code",
   "execution_count": null,
   "metadata": {},
   "outputs": [],
   "source": [
    "import torch\n",
    "import numpy as np\n",
    "import API\n",
    "import res_flow_vis as visual\n",
    "import copy"
   ]
  },
  {
   "cell_type": "markdown",
   "metadata": {},
   "source": [
    "### Model training"
   ]
  },
  {
   "cell_type": "markdown",
   "metadata": {},
   "source": [
    "The training was done with `train_models.py`, but here is a short explanation:"
   ]
  },
  {
   "cell_type": "code",
   "execution_count": null,
   "metadata": {},
   "outputs": [],
   "source": [
    "#Define all models hyperparameters, see API.py or API_Workflow.ipynb for more details\n",
    "definition_model = {\n",
    "    \"processor\": \"Processor_cond\",\n",
    "    \"processor_args\": {},\n",
    "    \"processor_data\": {\"folder\": \"all_sims\"},\n",
    "    \"processor_clean\": {\"N_min\":500},\n",
    "    \"flow_hyper\": {\"n_layers\":14, \"dim_notcond\": 10, \"dim_cond\": 4, \"CL\":\"NSF_CL2\", \"K\": 10, \"B\":3, \"network\":\"MLP\", \"network_args\":torch.tensor([128,4,0.2])},\n",
    "    \"subset_params\": {\"cond_fn\": \"cond_M_stars_2age_avZ\", \"use_fn_constructor\": \"construct_all_galaxies_leavout\", \"leavout_key\": \"id\", \"leavout_vals\": [66, 20, 88, 48, 5]},\n",
    "    \"data_prep_args\": {\"transformation_functions\":(\"np.log10\",), \"transformation_components\":([\"M_stars\"],), \"inverse_transformations\":(\"10**x\",), \"transformation_logdets\":(\"logdet_log10\",)}\n",
    "}"
   ]
  },
  {
   "cell_type": "code",
   "execution_count": null,
   "metadata": {},
   "outputs": [],
   "source": [
    "#Every galaxy has a unique id in [0,94], so we can use this as a key to leave out a galaxy key\n",
    "#However some keys are missing as the galaxy was removed in cleaning\n",
    "#Valid ids are (if you change nothing about cleaning):\n",
    "#Code to quickly get the valid ones:\n",
    "model = API.GalacticFlow(definition_model)\n",
    "model.prepare()\n",
    "existing_ids = model.processor.get_array(model.Galaxies, \"galaxy\", \"id\")\n",
    "print(existing_ids)"
   ]
  },
  {
   "cell_type": "code",
   "execution_count": null,
   "metadata": {},
   "outputs": [],
   "source": [
    "#Then select which ids to leave out in a given model e.g. [25, 89, 46, 38, 14]\n",
    "#The galaxies with this ids will be left out of the training set\n",
    "#Enter this list as \"leavout_vals\" in the definition_model\n",
    "definition_model2 = copy.deepcopy(definition_model)\n",
    "definition_model2[\"subset_params\"][\"leavout_vals\"] = [25, 89, 46, 38, 14]"
   ]
  },
  {
   "cell_type": "code",
   "execution_count": null,
   "metadata": {},
   "outputs": [],
   "source": [
    "#Now to train a model\n",
    "model2 = API.GalacticFlow(definition_model)\n",
    "model2.prepare()\n",
    "model2.train(epochs=10, init_lr=0.00009, batch_size=1024, gamma=0.998, device=\"cpu\")\n",
    "model.save(\"model2.pth\")"
   ]
  },
  {
   "cell_type": "code",
   "execution_count": null,
   "metadata": {},
   "outputs": [],
   "source": [
    "#or you can use, especially intended for training multiple models in parallel and restarting on crash\n",
    "#see train_models.py\n",
    "models = [definition_model2]\n",
    "train_kwargs = [{\"epochs\": 9, \"batch_size\": 1024, \"init_lr\": 0.00009, \"gamma\": 0.998, \"update_textfile\":f\"model{[25, 89, 46, 38, 14]}\"}]\n",
    "save_to = [\"model2.pth\"]\n",
    "devices = [None]\n",
    "API.train_GF(models, devices, train_kwargs, save_to, max_restart=3)"
   ]
  },
  {
   "cell_type": "markdown",
   "metadata": {},
   "source": [
    "### Loading a pretrained model"
   ]
  },
  {
   "cell_type": "code",
   "execution_count": null,
   "metadata": {},
   "outputs": [],
   "source": [
    "#For a given filename e.g. model[25, 89, 46, 38, 14].pth\n",
    "#Just load it like this:\n",
    "#(use the right path)\n",
    "model3 = API.GalacticFlow(\"saves/cross_val/model[25, 89, 46, 38, 14].pth\")"
   ]
  },
  {
   "cell_type": "code",
   "execution_count": null,
   "metadata": {},
   "outputs": [],
   "source": [
    "#You can do inference now already, but to better compare to data, we need to prepare the data\n",
    "model3.prepare()"
   ]
  },
  {
   "cell_type": "markdown",
   "metadata": {},
   "source": [
    "#### Inference"
   ]
  },
  {
   "cell_type": "code",
   "execution_count": null,
   "metadata": {},
   "outputs": [],
   "source": [
    "#Get one of the galaxies from the data (in this case validation set)\n",
    "#(model.Galaxies includes training and validation set)\n",
    "id_use = 89\n",
    "galaxy_use = list(filter(lambda x: x[\"galaxy\"][\"id\"] == id_use, model3.Galaxies))[0]\n",
    "galactic_parameters = galaxy_use[\"parameters\"]"
   ]
  },
  {
   "cell_type": "code",
   "execution_count": null,
   "metadata": {},
   "outputs": [],
   "source": [
    "#Sample from the model at those parameters\n",
    "model_galaxy = model3.sample_galaxy(N_stars=galaxy_use[\"stars\"].shape[0], parameters=galaxy_use[\"parameters\"], reinsert_conditions=\"galaxy\", GPUs=None)"
   ]
  },
  {
   "cell_type": "code",
   "execution_count": null,
   "metadata": {},
   "outputs": [],
   "source": [
    "#Now you can e.g. visualize the galaxy and compare to the data\n",
    "manual_cuts = {\"feh\":(-2.3,np.inf),\"ofe\":(-0.1,0.5)}\n",
    "labels = [\"$x/\\mathrm{kpc}$\", \"$y/\\mathrm{kpc}$\", \"$z/\\mathrm{kpc}$\", \"$v_x/\\mathrm{km/s}$\", \"$v_y/\\mathrm{km/s}$\", \"$v_z/\\mathrm{km/s}$\", \"$Z$\" ,\"$[\\mathrm{Fe}/\\mathrm{H}]$\", \"$[\\mathrm{O}/\\mathrm{Fe}]$\", \"$\\\\tau/\\mathrm{Gyr}$\"]\n",
    "visual.cornerplot_hist(galaxy_use[\"stars\"], model_galaxy[\"stars\"], grid_pass=True, names_to_print=labels, save_fig=False, manual_cut_dict=manual_cuts)"
   ]
  },
  {
   "cell_type": "markdown",
   "metadata": {},
   "source": [
    "### MMD"
   ]
  },
  {
   "cell_type": "code",
   "execution_count": null,
   "metadata": {},
   "outputs": [],
   "source": [
    "#See metrics.py\n",
    "#but here is a short explanation\n",
    "import glob\n",
    "import metrics\n",
    "\n",
    "#(Use the right path)\n",
    "trained_models = glob.glob(\"saves/cross_val/model*.pth\")\n",
    "\n",
    "#To speed things up, we can compute all cleaned galaxies once and save them\n",
    "ag_model = API.GalacticFlow(trained_models[0])\n",
    "ag_model.prepare()\n",
    "all_galaxies = ag_model.Galaxies"
   ]
  },
  {
   "cell_type": "code",
   "execution_count": null,
   "metadata": {},
   "outputs": [],
   "source": [
    "leavout_MMDs = []\n",
    "leavout_MMDs_data = []\n",
    "for model in trained_models:\n",
    "    model = API.GalacticFlow(model)\n",
    "    #Pass all_galaxies to avoid needing to run .prepare() on every model\n",
    "    #Get the unseen galaxies from validation set, sample them back\n",
    "    #And for each of them compute the MMD to all data galaxies\n",
    "    #Save galactic parameter to each MMD computed\n",
    "    leavout_MMDs += metrics.get_leavout_MMDs(model, GPUs=None, all_galaxies=all_galaxies)\n",
    "    leavout_MMDs_data += metrics.get_leavout_MMDs(model, GPUs=None, all_galaxies=all_galaxies, both_data=True)\n"
   ]
  },
  {
   "cell_type": "code",
   "execution_count": null,
   "metadata": {},
   "outputs": [],
   "source": [
    "#Now compute MMD vs difference in parameters\n",
    "#And combine results in one relation\n",
    "#Define to transform parameters to log_M_stars and Z_av_solar\n",
    "transform_dict = {\"M_stars\": (np.log10, \"log_M_stars\"), \"Z_av\": (lambda x: x/0.0134, \"Z_av_solar\")}\n",
    "MMDs_vs_params = metrics.MMD_vs_params(leavout_MMDs, transform_dict=transform_dict)\n",
    "MMDs_vs_params_data = metrics.MMD_vs_params(leavout_MMDs_data, transform_dict=transform_dict)"
   ]
  },
  {
   "cell_type": "code",
   "execution_count": null,
   "metadata": {},
   "outputs": [],
   "source": [
    "#Now you can plot the results\n",
    "import matplotlib.pyplot as plt\n",
    "plt.plot(MMDs_vs_params[\"log_M_stars\"], MMDs_vs_params[\"MMD\"], marker=\".\", linestyle=\"none\", markersize=4, alpha=0.2, color=\"orange\", label=\"GalaticFlow\")\n",
    "cs, fmt = visual.make_contours(MMDs_vs_params_data[\"log_M_stars\"].values, MMDs_vs_params_data[\"MMD\"].values, cumulative_levels=[0.9,0.7,0.5,0.3,0.1,0.03,0.01], cmap=\"RdGy_r\")\n",
    "\n",
    "plt.plot([], [], c=\"gray\", label=\"data\")\n",
    "plt.clabel(cs, inline=1, fontsize=10, fmt=fmt)\n",
    "plt.xlabel(\"$\\Delta \\log M_{\\\\rm{stars}}$\")\n",
    "\n",
    "plt.ylabel(\"MMD\")\n",
    "plt.legend(loc=9)\n",
    "#plt.savefig(\"MMD_vs_params.pdf\", bbox_inches=\"tight\")\n",
    "plt.show()"
   ]
  }
 ],
 "metadata": {
  "kernelspec": {
   "display_name": "Python 3",
   "language": "python",
   "name": "python3"
  },
  "language_info": {
   "codemirror_mode": {
    "name": "ipython",
    "version": 3
   },
   "file_extension": ".py",
   "mimetype": "text/x-python",
   "name": "python",
   "nbconvert_exporter": "python",
   "pygments_lexer": "ipython3",
   "version": "3.8.10"
  },
  "orig_nbformat": 4
 },
 "nbformat": 4,
 "nbformat_minor": 2
}
